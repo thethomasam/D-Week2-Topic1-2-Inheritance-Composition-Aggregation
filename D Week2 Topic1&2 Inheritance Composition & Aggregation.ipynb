{
 "cells": [
  {
   "cell_type": "code",
   "execution_count": null,
   "metadata": {},
   "outputs": [],
   "source": [
    "import pandas as pd\n",
    "import numpy as np\n",
    "%matplotlib inline\n",
    "import otter\n",
    "grader = otter.Notebook()"
   ]
  },
  {
   "cell_type": "markdown",
   "metadata": {},
   "source": [
    "# D | Week 2: Practice Inheritance Composition & Aggregation\n",
    "\n",
    "------\n",
    "\n",
    "### Instructions:\n",
    "\n",
    "- Complete 50 points worth of questions to pass the assessment\n",
    "  - You can attempt any number of questions and in any order provided you pass at least 50 points.\n",
    "- Develop and check your answers in the spaces provided.\n",
    "  - Do not remove any variables other provided markings already present in the answer spaces.\n",
    "  - Do not make any changes to this notebook outside of the answer spaces provided.\n",
    "  \n",
    "#### Submitting\n",
    "\n",
    "- Upload your .ipynb file to Gradescope (Make sure to restart the kernel and run all before you submit)\n",
    "- You can submit as many times as needed\n",
    "- When reviewing results, ignore any results listed under \"Public Tests\"\n",
    "\n",
    "For more information, see the assessment page. We have also provided an example question below for clarity. "
   ]
  },
  {
   "cell_type": "markdown",
   "metadata": {},
   "source": [
    "#### Question 1&nbsp;&nbsp;&nbsp;&nbsp;&nbsp;&nbsp;(15 Points)\n",
    "\n",
    "1.Create a class Speaker with the following ***instance variables*** and methods -<br />\n",
    "Attributes -\n",
    "```\n",
    "public\n",
    "\n",
    "1. jack (float) [2.5 or 3.5]\n",
    "2. tweeters (int)\n",
    "3. woofers (int)\n",
    "\n",
    "```\n",
    "Methods - <br />\n",
    "```\n",
    "public\n",
    "\n",
    "play_music() #returns \"Playing Music\"\n",
    "\n",
    "```\n",
    "\n",
    "2.Create another class BluetoothSpeaker which inherits from Speaker and has following instance variable and methods -  <br />\n",
    "Attributes -\n",
    "```\n",
    "public\n",
    "battery = (int) 100\n",
    "\n",
    "protected -\n",
    "connected_to (string)\n",
    "\n",
    "```\n",
    "Methods -\n",
    "```\n",
    "public \n",
    "\n",
    "play_music() #returns \"Playing Music from Mobile\" (if connected_to == Mobile)\n",
    "set_connected_to(device) #sets value of connected_to = device\n",
    "get_connected_to() #returns connected_to\n",
    "\n",
    "```\n",
    "\n",
    "Instantiate two objects for both classes as follows-\n",
    "```\n",
    "\n",
    "q1_o1 = Speaker(2.5,2,2)\n",
    "q1_o2 = BluetoothSpeaker(3.5,2,2,\"mobile\")\n",
    "\n",
    "```"
   ]
  },
  {
   "cell_type": "code",
   "execution_count": 3,
   "metadata": {
    "tags": []
   },
   "outputs": [
    {
     "ename": "ErrorException",
     "evalue": "syntax: extra token \"Speaker\" after end of expression",
     "output_type": "error",
     "traceback": [
      "syntax: extra token \"Speaker\" after end of expression\n",
      "\n",
      "Stacktrace:\n",
      "  [1] top-level scope\n",
      "    @ \\\\uofa\\users$\\users8\\a1848748\\Downloads\\D Week2 Topic1&2 Inheritance Composition & Aggregation.ipynb:2\n",
      "  [2] eval\n",
      "    @ .\\boot.jl:360 [inlined]\n",
      "  [3] include_string(mapexpr::typeof(REPL.softscope), mod::Module, code::String, filename::String)\n",
      "    @ Base .\\loading.jl:1116\n",
      "  [4] #invokelatest#2\n",
      "    @ .\\essentials.jl:708 [inlined]\n",
      "  [5] invokelatest\n",
      "    @ .\\essentials.jl:706 [inlined]\n",
      "  [6] (::VSCodeServer.var\"#146#147\"{VSCodeServer.NotebookRunCellArguments, String})()\n",
      "    @ VSCodeServer c:\\ProgramData\\Microsoft\\VSCode\\Extensions\\julialang.language-julia-1.5.10\\scripts\\packages\\VSCodeServer\\src\\serve_notebook.jl:18\n",
      "  [7] withpath(f::VSCodeServer.var\"#146#147\"{VSCodeServer.NotebookRunCellArguments, String}, path::String)\n",
      "    @ VSCodeServer c:\\ProgramData\\Microsoft\\VSCode\\Extensions\\julialang.language-julia-1.5.10\\scripts\\packages\\VSCodeServer\\src\\repl.jl:185\n",
      "  [8] notebook_runcell_request(conn::VSCodeServer.JSONRPC.JSONRPCEndpoint{Base.PipeEndpoint, Base.PipeEndpoint}, params::VSCodeServer.NotebookRunCellArguments)\n",
      "    @ VSCodeServer c:\\ProgramData\\Microsoft\\VSCode\\Extensions\\julialang.language-julia-1.5.10\\scripts\\packages\\VSCodeServer\\src\\serve_notebook.jl:14\n",
      "  [9] dispatch_msg(x::VSCodeServer.JSONRPC.JSONRPCEndpoint{Base.PipeEndpoint, Base.PipeEndpoint}, dispatcher::VSCodeServer.JSONRPC.MsgDispatcher, msg::Dict{String, Any})\n",
      "    @ VSCodeServer.JSONRPC c:\\ProgramData\\Microsoft\\VSCode\\Extensions\\julialang.language-julia-1.5.10\\scripts\\packages\\JSONRPC\\src\\typed.jl:67\n",
      " [10] serve_notebook(pipename::String; crashreporting_pipename::String)\n",
      "    @ VSCodeServer c:\\ProgramData\\Microsoft\\VSCode\\Extensions\\julialang.language-julia-1.5.10\\scripts\\packages\\VSCodeServer\\src\\serve_notebook.jl:94\n",
      " [11] top-level scope\n",
      "    @ c:\\ProgramData\\Microsoft\\VSCode\\Extensions\\julialang.language-julia-1.5.10\\scripts\\notebook\\notebook.jl:12\n",
      " [12] include(mod::Module, _path::String)\n",
      "    @ Base .\\Base.jl:384\n",
      " [13] exec_options(opts::Base.JLOptions)\n",
      "    @ Base .\\client.jl:285\n",
      " [14] _start()\n",
      "    @ Base .\\client.jl:485"
     ]
    }
   ],
   "source": [
    "# Write your solution here\n",
    "class Speaker:\n",
    "    def __init__(self,jack,tweeters,woofers):\n",
    "        self.tweeters=tweeters\n",
    "        self.woofers=woofers\n",
    "        self. jack=jack\n",
    "\n",
    "    def play_music(self):\n",
    "        return \"Playing Music\"\n",
    "class BluetoothSpeaker(Speaker):\n",
    "    def __init__(self,battrey,connected_to):\n",
    "        self.battrey=battrey\n",
    "        self._connected_to=connected_to\n",
    "    def play_music(self):\n",
    "        return \"Playing Music from \"+str(self._connected_to)\n",
    "    \n",
    "\n",
    "q1_o2 = BluetoothSpeaker(3.5,2,2,\"mobile\")\n",
    "print(q1_o2.play_music())"
   ]
  },
  {
   "cell_type": "code",
   "execution_count": 2,
   "metadata": {},
   "outputs": [
    {
     "name": "stdout",
     "output_type": "stream",
     "text": [
      "sam"
     ]
    }
   ],
   "source": [
    "print(\"sam\")"
   ]
  },
  {
   "cell_type": "markdown",
   "metadata": {},
   "source": [
    "#### Question 2&nbsp;&nbsp;&nbsp;&nbsp;&nbsp;&nbsp;(10 Points)\n",
    "\n",
    "Create a new class ``SmartSpeakerInherited`` that inherits from `SmartSpeaker` and has an additional ***instance variable*** `skills`. \n",
    "\n",
    "Attributes -\n",
    "```\n",
    "public\n",
    "skills = None # set it be dafualt to None for now\n",
    "\n",
    "```\n",
    "\n",
    "Inititalize an object `q2_o` of type `SmartSpeakerInherited` as follows -\n",
    "\n",
    "```\n",
    "q2_ob = (SmartSpeakerInherited) SmartSpeakerInherited(3.5,2,2,\"mobile\",None)\n",
    "\n",
    "```"
   ]
  },
  {
   "cell_type": "code",
   "execution_count": null,
   "metadata": {
    "tags": []
   },
   "outputs": [],
   "source": [
    "# Write your solution here\n",
    "\n"
   ]
  },
  {
   "cell_type": "markdown",
   "metadata": {},
   "source": [
    "#### Question 3&nbsp;&nbsp;&nbsp;&nbsp;&nbsp;&nbsp;(10 Points)\n",
    "Create a new class ``SmartSpeakerComposition`` that has two ***instance variables*** such that `SmartSpeakerComposition` is composed of an object( `speaker`) of class `BluetoothSpeaker` and `skills`. \n",
    "\n",
    "Attributes -\n",
    "```\n",
    "public\n",
    "speaker = (BluetoothSpeaker) BluetoothSpeaker(jack_type,no_of_tweeters,no_of_woofers,connected_to)\n",
    "skills = None # set it be dafault to None for now\n",
    "\n",
    "```\n",
    "\n",
    "Inititalize an object `q3_ob` of type `SmartSpeakerInherited` as follows -\n",
    "\n",
    "```\n",
    "q3_ob = SmartSpeakerComposition(5.5,4,2,\"playstation\",None)\n",
    "\n",
    "```"
   ]
  },
  {
   "cell_type": "code",
   "execution_count": null,
   "metadata": {
    "tags": []
   },
   "outputs": [],
   "source": [
    "# Write your solution here\n",
    "\n"
   ]
  },
  {
   "cell_type": "markdown",
   "metadata": {},
   "source": [
    "#### Question 4&nbsp;&nbsp;&nbsp;&nbsp;&nbsp;&nbsp;(10 Points)\n",
    "Create a new class ``SmartSpeakerAggregation`` that has two ***instance variables*** such that `SmartSpeakerAggregation` is aggregation of an object( `speaker_obj`) of class `Speaker` and `skills`. \n",
    "\n",
    "Attributes -\n",
    "```\n",
    "public\n",
    "speaker_obj = (Speaker) Speaker(jack_type,no_of_tweeters,no_of_woofers)\n",
    "skills = None # set it be dafault to None for now\n",
    "\n",
    "```\n",
    "<br>\n",
    "Inititalize two objects `speaker_obj` of type `Speaker` and `q4_ob` of type `SmartSpeakerInherited` as follows -\n",
    "\n",
    "```\n",
    "speaker_obj = Speaker(3.1,6,2)\n",
    "q4_ob = SmartSpeakerAggregation(speaker_obj,None)\n",
    "\n",
    "```\n",
    "<br>\n",
    "\n",
    "Think about how you would access `speaker_obj`,`q4_ob` and `q3_ob` `play_music()`function."
   ]
  },
  {
   "cell_type": "code",
   "execution_count": null,
   "metadata": {
    "tags": []
   },
   "outputs": [],
   "source": [
    "# Write your solution here\n",
    "\n"
   ]
  },
  {
   "cell_type": "markdown",
   "metadata": {},
   "source": [
    "#### Question 5&nbsp;&nbsp;&nbsp;&nbsp;&nbsp;&nbsp;(15 Points)\n",
    "1.Create a new class ``Skills`` that has one ***instance variables*** `name` and one method `voice_input(value)`  \n",
    "\n",
    "Attributes -\n",
    "```\n",
    "public\n",
    "name = (string) \n",
    "```\n",
    "\n",
    "Methods - \n",
    "```\n",
    "voice_input(value) \n",
    "# prints out 'Hi, I am Alexa . How can I help?'  if self.name == 'Alexa'.\n",
    "```\n",
    "\n",
    "2.Create a new class ``MusicSkills`` that inherits from `Skills` and has the following <br>\n",
    "\n",
    "Attributes -\n",
    "```\n",
    "public\n",
    "music = (string) \"RHCP\"\n",
    "volume = (int) 10\n",
    "play = (Boolean) True\n",
    "```\n",
    "\n",
    "Methods - \n",
    "```\n",
    "what_is_playing() # returns self.music\n",
    "set_volume(value) # sets self.volume = value\n",
    "toggle_play()       # sets self.play = !self.play\n",
    "```\n",
    "\n",
    "\n",
    "\n",
    "Inititalize two objects `q5_ob` of type `MusicSkills` as follows -\n",
    "\n",
    "```\n",
    "q5_ob = MusicSkill(\"Alexa\")\n",
    "```"
   ]
  },
  {
   "cell_type": "code",
   "execution_count": null,
   "metadata": {
    "tags": []
   },
   "outputs": [],
   "source": [
    "# Write your solution here\n",
    "\n"
   ]
  },
  {
   "cell_type": "markdown",
   "metadata": {},
   "source": [
    "#### Question 6&nbsp;&nbsp;&nbsp;&nbsp;&nbsp;&nbsp;(10 Points)\n",
    "Now that we have our speakers and skills ready, create a new class `AlexaDevice`  which inherits from `BluetoothSpeaker` and `MusicSkill` and instantiate an object `q6_ob` of class `AlexaDevice` as follows - \n",
    "```\n",
    "q6_ob = AlexaDevice(3.5,2,2,\"mobile\",\"Jasons_Alexa\")\n",
    "```\n",
    "and run the following commands and observe the outputs\n",
    "\n",
    "```\n",
    "print(q6_ob.name)\n",
    "str(type(q6_ob))\n",
    "print(q6_ob.what_is_playing())\n",
    "q6_ob.set_volume(5)\n",
    "q6_ob.volume\n",
    "q6_ob.toggle_play() \n",
    "print(q6_ob.play)\n",
    "```"
   ]
  },
  {
   "cell_type": "code",
   "execution_count": null,
   "metadata": {
    "tags": []
   },
   "outputs": [],
   "source": [
    "# Write your solution here\n",
    "\n"
   ]
  },
  {
   "cell_type": "markdown",
   "metadata": {},
   "source": [
    "#### Question 7&nbsp;&nbsp;&nbsp;&nbsp;&nbsp;&nbsp;(10 Points) \n",
    "Create 3 new objects of class `MusicSkill` <br>\n",
    "```\n",
    "alexa = MusicSkill(\"Alexa\")\n",
    "siri = MusicSkill(\"Siri\")\n",
    "google = MusicSkill(\"Google\")\n",
    "```\n",
    "set `q2_ob` objects skill = `siri` <br>\n",
    "set `q3_ob` objects skill = `google`<br>\n",
    "\n",
    "and store updated `q2_ob` and `q3_ob` in `q7_ob1` and `q7_ob2` respectively. <br>\n",
    "\n",
    "Run the following commands and observe how the attributes and methods are being accessed\n",
    "```\n",
    "q7_ob1.skills.voice_input(\"Siri\") == 'Hi, I am Siri . How can I help?'\n",
    "q7_ob2.skills.voice_input(\"Google\") == 'Hi, I am Google . How can I help?'\n",
    "q7_ob1.set_connected_to(\"Xbox\") \n",
    "q7_ob1.get_connected_to() == \"Xbox\"\n",
    "\n",
    "print(q7_ob1.skills.name)\n",
    "print(q7_ob1.skills)\n",
    "print(type(q7_ob2))\n",
    "print(q7_ob2.skills.what_is_playing())\n",
    "q7_ob2.skills.set_volume(5)\n",
    "print(q7_ob2.skills.volume)\n",
    "q7_ob2.skills.toggle_play()\n",
    "print(q7_ob2.skills.play)\n",
    "\n",
    "<!-- Does setting google = MusicSkill(\"Cortana\") change q7_ob2.skills as well ?-->\n",
    "google = MusicSkill(\"Cortana\")\n",
    "q7_ob2.skills.voice_input(\"Cortana\")\n",
    "```"
   ]
  },
  {
   "cell_type": "code",
   "execution_count": null,
   "metadata": {
    "tags": []
   },
   "outputs": [],
   "source": [
    "# Write your solution here\n",
    "\n"
   ]
  },
  {
   "cell_type": "markdown",
   "metadata": {},
   "source": [
    "#### Question 8&nbsp;&nbsp;&nbsp;&nbsp;&nbsp;&nbsp;(10 Points) \n",
    "Update the code from Q3 such that `SmartSpeakerComposition` class has the following init method and initialised as- <br>\n",
    "```\n",
    "def __init__(self,jack_type,no_of_tweeters,no_of_woofers,connected_to,skill_name):\n",
    "        self.speaker = BluetoothSpeaker(jack_type,no_of_tweeters,no_of_woofers,connected_to)\n",
    "        self.skills = MusicSkill(skill_name)\n",
    "```\n",
    "create and object `q8_ob` from the new `SmartSpeakerComposition` class as follows -\n",
    "```\n",
    "q8_ob = SmartSpeakerComposition(5.5,4,2,\"playstation\",\"Alexa\")\n",
    "```"
   ]
  },
  {
   "cell_type": "code",
   "execution_count": null,
   "metadata": {
    "tags": []
   },
   "outputs": [],
   "source": [
    "# Write your solution here\n",
    "\n"
   ]
  },
  {
   "cell_type": "markdown",
   "metadata": {},
   "source": [
    "#### Question 9&nbsp;&nbsp;&nbsp;&nbsp;&nbsp;&nbsp;(10 Points)\n",
    "Assign `q4_ob.skills` to `MusicSkill(\"Google\")` and store `[q3_ob, q4_ob, q6_ob , q7_ob1 , q7_ob2]` in the same order in a list `q9_ob`. <br>"
   ]
  },
  {
   "cell_type": "code",
   "execution_count": null,
   "metadata": {
    "tags": []
   },
   "outputs": [],
   "source": [
    "# Write your solution here\n",
    "\n"
   ]
  }
 ],
 "metadata": {
  "celltoolbar": "Edit Metadata",
  "kernelspec": {
   "display_name": "Julia 1.6.5",
   "language": "julia",
   "name": "julia-1.6"
  },
  "language_info": {
   "file_extension": ".jl",
   "mimetype": "application/julia",
   "name": "julia",
   "version": "1.6.5"
  },
  "otter": {
   "tests": {
    "Question 01": {
     "name": "Question 01",
     "points": 15,
     "suites": [
      {
       "cases": [],
       "scored": true,
       "setup": "",
       "teardown": "",
       "type": "doctest"
      }
     ]
    },
    "Question 02": {
     "name": "Question 02",
     "points": 10,
     "suites": [
      {
       "cases": [],
       "scored": true,
       "setup": "",
       "teardown": "",
       "type": "doctest"
      }
     ]
    },
    "Question 03": {
     "name": "Question 03",
     "points": 10,
     "suites": [
      {
       "cases": [],
       "scored": true,
       "setup": "",
       "teardown": "",
       "type": "doctest"
      }
     ]
    },
    "Question 04": {
     "name": "Question 04",
     "points": 10,
     "suites": [
      {
       "cases": [],
       "scored": true,
       "setup": "",
       "teardown": "",
       "type": "doctest"
      }
     ]
    },
    "Question 05": {
     "name": "Question 05",
     "points": 15,
     "suites": [
      {
       "cases": [],
       "scored": true,
       "setup": "",
       "teardown": "",
       "type": "doctest"
      }
     ]
    },
    "Question 06": {
     "name": "Question 06",
     "points": 10,
     "suites": [
      {
       "cases": [],
       "scored": true,
       "setup": "",
       "teardown": "",
       "type": "doctest"
      }
     ]
    },
    "Question 07": {
     "name": "Question 07",
     "points": 10,
     "suites": [
      {
       "cases": [],
       "scored": true,
       "setup": "",
       "teardown": "",
       "type": "doctest"
      }
     ]
    },
    "Question 08": {
     "name": "Question 08",
     "points": 10,
     "suites": [
      {
       "cases": [],
       "scored": true,
       "setup": "",
       "teardown": "",
       "type": "doctest"
      }
     ]
    },
    "Question 09": {
     "name": "Question 09",
     "points": 10,
     "suites": [
      {
       "cases": [],
       "scored": true,
       "setup": "",
       "teardown": "",
       "type": "doctest"
      }
     ]
    }
   }
  },
  "varInspector": {
   "cols": {
    "lenName": 16,
    "lenType": 16,
    "lenVar": 40
   },
   "kernels_config": {
    "python": {
     "delete_cmd_postfix": "",
     "delete_cmd_prefix": "del ",
     "library": "var_list.py",
     "varRefreshCmd": "print(var_dic_list())"
    },
    "r": {
     "delete_cmd_postfix": ") ",
     "delete_cmd_prefix": "rm(",
     "library": "var_list.r",
     "varRefreshCmd": "cat(var_dic_list()) "
    }
   },
   "types_to_exclude": [
    "module",
    "function",
    "builtin_function_or_method",
    "instance",
    "_Feature"
   ],
   "window_display": false
  }
 },
 "nbformat": 4,
 "nbformat_minor": 4
}
